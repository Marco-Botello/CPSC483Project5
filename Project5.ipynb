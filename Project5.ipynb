{
 "cells": [
  {
   "cell_type": "markdown",
   "metadata": {},
   "source": [
    "# **READ ME**\n",
    "  * Made By:\n",
    "    * Ryan Teoh (CPSC 483-01)\n",
    "    * Marco Botello (CPSC 483-01)\n",
    "  * Description:\n",
    "     * This notebook will be using the California Housing dataset and Pandas DataFrame feature to compare and contrast models. Throughout the notebook we use sklearn to view scatterplots and covariance matrices to narrow down what type of model we would like to use to predict MedHouseVal. To compare models we will make use of their MSE's as well as their R2 scores."
   ]
  },
  {
   "cell_type": "markdown",
   "metadata": {},
   "source": [
    "# 1.) Use read_csv() to load and examine each dataset."
   ]
  },
  {
   "cell_type": "code",
   "execution_count": 1,
   "metadata": {},
   "outputs": [
    {
     "name": "stdout",
     "output_type": "stream",
     "text": [
      "Dataset1:\n",
      "             a          b  c\n",
      "0     1.800539  -0.539218  0\n",
      "1    24.330831  26.439146  1\n",
      "2    21.124114  21.166814  1\n",
      "3    10.517197  11.175424  0\n",
      "4    19.737721  23.341138  1\n",
      "..         ...        ... ..\n",
      "195   7.701944   5.303327  0\n",
      "196  24.079743  24.066883  1\n",
      "197  24.351346  20.908176  1\n",
      "198  24.688063  24.996258  1\n",
      "199  36.190529  18.514561  1\n",
      "\n",
      "[200 rows x 3 columns] \n",
      "\n",
      "Dataset2:\n",
      "             a          b  c\n",
      "0    -1.664407  17.245415  0\n",
      "1    20.211237   8.599145  1\n",
      "2    12.675218  23.148375  1\n",
      "3    17.552831  10.311698  1\n",
      "4    14.959941  20.225844  1\n",
      "..         ...        ... ..\n",
      "195  14.648641  18.261043  1\n",
      "196  15.618267  10.398619  1\n",
      "197  18.280171   9.001519  1\n",
      "198  13.415497   6.349741  1\n",
      "199   5.702577  25.346361  0\n",
      "\n",
      "[200 rows x 3 columns] \n",
      "\n",
      "Dataset3:\n",
      "             a          b  c\n",
      "0    30.876149   7.806793  0\n",
      "1    34.060953  14.802478  0\n",
      "2    30.860440  16.270849  0\n",
      "3    21.738646  10.306756  1\n",
      "4    17.664476  30.921761  1\n",
      "..         ...        ... ..\n",
      "195   8.029149  17.007334  1\n",
      "196  11.341650  18.551593  1\n",
      "197  29.313882   2.027670  0\n",
      "198   8.122641  20.294774  1\n",
      "199  28.770680  14.784148  0\n",
      "\n",
      "[200 rows x 3 columns]\n"
     ]
    }
   ],
   "source": [
    "import numpy as np\n",
    "import pandas as pd\n",
    "\n",
    "columnNames=['a','b','c']\n",
    "print(\"Dataset1:\")\n",
    "set1 = pd.read_csv('dataset1.csv', names=columnNames)\n",
    "print(set1,\"\\n\")\n",
    "\n",
    "print(\"Dataset2:\")\n",
    "set2 = pd.read_csv('dataset2.csv', names=columnNames)\n",
    "print(set2,\"\\n\")\n",
    "\n",
    "print(\"Dataset3:\")\n",
    "set3 = pd.read_csv('dataset3.csv', names=columnNames)\n",
    "print(set3)"
   ]
  },
  {
   "cell_type": "markdown",
   "metadata": {},
   "source": [
    "# 2.) Use logistic regression to fit() and score() a binary classifier for dataset 1. How accurate are the model’s predictions?"
   ]
  },
  {
   "cell_type": "code",
   "execution_count": 2,
   "metadata": {},
   "outputs": [
    {
     "name": "stdout",
     "output_type": "stream",
     "text": [
      "Our model score:  1.0\n"
     ]
    }
   ],
   "source": [
    "from sklearn.linear_model import LogisticRegression\n",
    "\n",
    "X = pd.read_csv('dataset1.csv', names=columnNames, usecols = ['a','b'])\n",
    "# print(X)\n",
    "\n",
    "y = pd.read_csv('dataset1.csv',names=columnNames, usecols = ['c'])\n",
    "y = y.to_numpy().flatten()\n",
    "# print(y)\n",
    "\n",
    "\n",
    "model = LogisticRegression(solver='liblinear', random_state=0).fit(X,y)\n",
    "\n",
    "# model.classes_\n",
    "# model.intercept_\n",
    "# model.coef_\n",
    "\n",
    "print(\"Our model score: \",model.score(X,y))"
   ]
  },
  {
   "cell_type": "markdown",
   "metadata": {},
   "source": [
    "# 3.) Repeat experiment (2) for dataset 2. How well does it score?"
   ]
  },
  {
   "cell_type": "code",
   "execution_count": 3,
   "metadata": {},
   "outputs": [
    {
     "name": "stdout",
     "output_type": "stream",
     "text": [
      "Our model score:  0.525\n"
     ]
    }
   ],
   "source": [
    "X2 = pd.read_csv('dataset2.csv', names=columnNames, usecols = ['a','b'])\n",
    "# print(X)\n",
    "\n",
    "y2 = pd.read_csv('dataset2.csv',names=columnNames, usecols = ['c'])\n",
    "y2 = y2.to_numpy().flatten()\n",
    "# print(y)\n",
    "\n",
    "\n",
    "model = LogisticRegression(solver='liblinear', random_state=0).fit(X2,y2)\n",
    "\n",
    "# model.classes_\n",
    "# model.intercept_\n",
    "# model.coef_\n",
    "\n",
    "print(\"Our model score: \",model.score(X2,y2))"
   ]
  },
  {
   "cell_type": "markdown",
   "metadata": {},
   "source": [
    "# 4.) Create separate scatterplots for datasets 1 and 2, plotting points from class 0 with a different color and marker from points in class 1. What accounts for the discrepancies between experiments (2) and (3)?\n"
   ]
  },
  {
   "cell_type": "code",
   "execution_count": 57,
   "metadata": {},
   "outputs": [
    {
     "name": "stdout",
     "output_type": "stream",
     "text": [
      "Dataset1 Scatter:\n"
     ]
    },
    {
     "data": {
      "image/png": "[encoded data removed]",
      "text/plain": [
       "<Figure size 432x288 with 1 Axes>"
      ]
     },
     "metadata": {
      "needs_background": "light"
     },
     "output_type": "display_data"
    },
    {
     "name": "stdout",
     "output_type": "stream",
     "text": [
      "\n",
      "Dataset2 Scatter:\n"
     ]
    },
    {
     "data": {
      "image/png": "[encoded data removed]",
      "text/plain": [
       "<Figure size 432x288 with 1 Axes>"
      ]
     },
     "metadata": {
      "needs_background": "light"
     },
     "output_type": "display_data"
    }
   ],
   "source": [
    "import matplotlib\n",
    "import matplotlib.pyplot as plt\n",
    "classes = model.classes_\n",
    "\n",
    "#Need to change colors based on classes here\n",
    "\n",
    "colors = {0:'orange', 1:'blue'}\n",
    "shape = {0:'o', 1:'s'}\n",
    "\n",
    "print(\"Dataset1 Scatter:\")\n",
    "fig, ax = plt.subplots()\n",
    "grouped = set1.groupby('c')\n",
    "for key, group in grouped:\n",
    "    group.plot(ax=ax, kind='scatter',x='a', y='b', color=colors[key], marker=shape[key])\n",
    "\n",
    "plt.show()\n",
    "\n",
    "print(\"\\nDataset2 Scatter:\")\n",
    "fig, ax = plt.subplots()\n",
    "grouped = set2.groupby('c')\n",
    "for key, group in grouped:\n",
    "    group.plot(ax=ax, kind='scatter',x='a', y='b', color=colors[key], marker=shape[key])\n",
    "\n",
    "plt.show()\n",
    "\n",
    "\n"
   ]
  },
  {
   "cell_type": "markdown",
   "metadata": {},
   "source": [
    "# 5.) Fit and score Gaussian Naive Bayes classifiers for datasets 1 and 2. How well do these classifiers score compared to logistic regression?"
   ]
  },
  {
   "cell_type": "code",
   "execution_count": 5,
   "metadata": {},
   "outputs": [
    {
     "name": "stdout",
     "output_type": "stream",
     "text": [
      "Dataset 1 Score:  1.0\n",
      "\n",
      "Dataset 2 Score:  1.0\n"
     ]
    }
   ],
   "source": [
    "from sklearn.naive_bayes import GaussianNB\n",
    "\n",
    "gaussianModel = GaussianNB().fit(X,y)\n",
    "print(\"Dataset 1 Score: \",gaussianModel.score(X,y))\n",
    "\n",
    "gaussianModel = GaussianNB().fit(X2,y2)\n",
    "print(\"\\nDataset 2 Score: \",gaussianModel.score(X2,y2))"
   ]
  },
  {
   "cell_type": "markdown",
   "metadata": {},
   "source": [
    "# 6.)Repeat experiment (5) with K-Nearest Neighbor classifiers."
   ]
  },
  {
   "cell_type": "code",
   "execution_count": 6,
   "metadata": {},
   "outputs": [
    {
     "name": "stdout",
     "output_type": "stream",
     "text": [
      "Dataset 1 Score:  1.0\n",
      "\n",
      "Dataset 2 Score:  1.0\n"
     ]
    }
   ],
   "source": [
    "from sklearn.neighbors import KNeighborsClassifier\n",
    "\n",
    "kNModel = KNeighborsClassifier().fit(X,y)\n",
    "print(\"Dataset 1 Score: \",kNModel.score(X,y))\n",
    "\n",
    "kNModel = KNeighborsClassifier().fit(X2,y2)\n",
    "print(\"\\nDataset 2 Score: \",kNModel.score(X2,y2))"
   ]
  },
  {
   "cell_type": "markdown",
   "metadata": {},
   "source": [
    "# 7) Use the code from KV Subbaiah Setty’s tutorial How To Plot A Decision Boundary For Machine Learning Algorithms in Python as a guide, plot the decision boundaries for each classifier and dataset. What differences do you observe?\n"
   ]
  },
  {
   "cell_type": "code",
   "execution_count": 80,
   "metadata": {},
   "outputs": [
    {
     "data": {
      "image/png": "[encoded data removed]",
      "text/plain": [
       "<Figure size 432x288 with 1 Axes>"
      ]
     },
     "metadata": {
      "needs_background": "light"
     },
     "output_type": "display_data"
    }
   ],
   "source": [
    "import numpy as np\n",
    "from sklearn.datasets import make_blobs\n",
    "from sklearn.linear_model import LogisticRegression\n",
    "\n",
    "# Get min and max of the domain\n",
    "min1, max1 = X['a'].min()-1, X['a'].max()+1\n",
    "min2, max2 = X['b'].min()-1, X['b'].max()+1\n",
    "\n",
    "# Define x and y scale\n",
    "X1grid = np.arange(min1, max1, 0.1)\n",
    "X2grid = np.arange(min2, max2, 0.1)\n",
    "\n",
    "# Generate the grid's lines and rows\n",
    "XX, YY = np.meshgrid(X1grid, X2grid)\n",
    "\n",
    "# Flatten the grid\n",
    "r1, r2 = XX.flatten(), YY.flatten()\n",
    "r1, r2 = r1.reshape((len(r1), 1)), r2.reshape((len(r2), 1))\n",
    "\n",
    "# Horizontally stack the vectors inorder to create the x1 and x2 input\n",
    "grid = np.hstack((r1,r2))\n",
    "\n",
    "# Define the model\n",
    "model = LogisticRegression()\n",
    "\n",
    "# Fit the model\n",
    "model.fit(X, y)\n",
    "\n",
    "# Predict the grid\n",
    "yHat = model.predict(grid)\n",
    "\n",
    "# Reshape the predictions\n",
    "ZZ = yHat.reshape(XX.shape)\n",
    "\n",
    "# Plot XX, YY, and ZZ\n",
    "plt.contourf(XX, YY, ZZ, cmap='Paired')\n",
    "\n",
    "# Create scatter plot for each class\n",
    "for class_value in range(2):\n",
    "    \n",
    "    # Get row indexes for the samples\n",
    "    row_ix = np.where(y == class_value)\n",
    "    # Create scatter for the samples\n",
    "    plt.scatter(X['a'], X['b'], cmap='Paired')\n",
    "    \n",
    "    #HOW TF DO I SEPERATE THE COLORS/CLASSES???????? Prob has something to do with [class_value]\n",
    "    #GIT TUTORIAL:https://github.com/KVSSetty/ml-notebooks/blob/master/Plot%20a%20Decision%20Surface%20for%20Machine%20Learning%20Algorithms%20in%20Python/Plot%20a%20Decision%20Surface%20for%20Machine%20Learning%20Algorithms%20in%20Python.ipynb"
   ]
  },
  {
   "cell_type": "markdown",
   "metadata": {},
   "source": [
    "# 8) Now repeat experiments (2), (5), (6), and (7) with dataset 3.  "
   ]
  },
  {
   "cell_type": "code",
   "execution_count": null,
   "metadata": {},
   "outputs": [],
   "source": [
    "X3 = pd.read_csv('dataset3.csv', names=columnNames, usecols = ['a','b'])\n",
    "# print(X3)\n",
    "\n",
    "y3 = pd.read_csv('dataset3.csv',names=columnNames, usecols = ['c'])\n",
    "y3 = y3.to_numpy().flatten()\n",
    "# print(y3)\n",
    "\n",
    "Logmodel = LogisticRegression(solver='liblinear', random_state=0).fit(X3,y3)\n",
    "print(\"Logistical Model score: \",Logmodel.score(X3,y3))\n",
    "\n",
    "gaussianModel = GaussianNB().fit(X3,y3)\n",
    "print(\"Gaussian Model Score: \",gaussianModel.score(X3,y3))\n",
    "\n",
    "kNModel = KNeighborsClassifier().fit(X3,y3)\n",
    "print(\"K-Nearest Neigbor Score: \",kNModel.score(X3,y3))\n"
   ]
  }
 ],
 "metadata": {
  "kernelspec": {
   "display_name": "Python 3",
   "language": "python",
   "name": "python3"
  },
  "language_info": {
   "codemirror_mode": {
    "name": "ipython",
    "version": 3
   },
   "file_extension": ".py",
   "mimetype": "text/x-python",
   "name": "python",
   "nbconvert_exporter": "python",
   "pygments_lexer": "ipython3",
   "version": "3.8.5"
  },
  "metadata": {
   "interpreter": {
    "hash": "63fd5069d213b44bf678585dea6b12cceca9941eaf7f819626cde1f2670de90d"
   }
  }
 },
 "nbformat": 4,
 "nbformat_minor": 4
}
