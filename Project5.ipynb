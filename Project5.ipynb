{
 "cells": [
  {
   "cell_type": "markdown",
   "metadata": {},
   "source": [
    "# **READ ME**\n",
    "  * Made By:\n",
    "    * Ryan Teoh (CPSC 483-01)\n",
    "    * Marco Botello (CPSC 483-01)\n",
    "  * Description:\n",
    "     * This notebook will be using the California Housing dataset and Pandas DataFrame feature to compare and contrast models. Throughout the notebook we use sklearn to view scatterplots and covariance matrices to narrow down what type of model we would like to use to predict MedHouseVal. To compare models we will make use of their MSE's as well as their R2 scores."
   ]
  },
  {
   "cell_type": "markdown",
   "metadata": {},
   "source": [
    "# 1.) Use read_csv() to load and examine each dataset."
   ]
  },
  {
   "cell_type": "code",
   "execution_count": 13,
   "metadata": {},
   "outputs": [
    {
     "name": "stdout",
     "output_type": "stream",
     "text": [
      "Dataset1:\n",
      "     1.8005387353055742  -0.5392180610512733  0\n",
      "0             24.330831            26.439146  1\n",
      "1             21.124114            21.166814  1\n",
      "2             10.517197            11.175424  0\n",
      "3             19.737721            23.341138  1\n",
      "4              8.404446             8.196714  0\n",
      "..                  ...                  ... ..\n",
      "194            7.701944             5.303327  0\n",
      "195           24.079743            24.066883  1\n",
      "196           24.351346            20.908176  1\n",
      "197           24.688063            24.996258  1\n",
      "198           36.190529            18.514561  1\n",
      "\n",
      "[199 rows x 3 columns] \n",
      "\n",
      "Dataset2:\n",
      "     -1.6644070030229474  17.24541535537469  0\n",
      "0              20.211237           8.599145  1\n",
      "1              12.675218          23.148375  1\n",
      "2              17.552831          10.311698  1\n",
      "3              14.959941          20.225844  1\n",
      "4               7.066053          28.374781  0\n",
      "..                   ...                ... ..\n",
      "194            14.648641          18.261043  1\n",
      "195            15.618267          10.398619  1\n",
      "196            18.280171           9.001519  1\n",
      "197            13.415497           6.349741  1\n",
      "198             5.702577          25.346361  0\n",
      "\n",
      "[199 rows x 3 columns] \n",
      "\n",
      "Dataset3:\n",
      "     30.876149283835716  7.806792944703234  0\n",
      "0             34.060953          14.802478  0\n",
      "1             30.860440          16.270849  0\n",
      "2             21.738646          10.306756  1\n",
      "3             17.664476          30.921761  1\n",
      "4             23.610768          33.464780  1\n",
      "..                  ...                ... ..\n",
      "194            8.029149          17.007334  1\n",
      "195           11.341650          18.551593  1\n",
      "196           29.313882           2.027670  0\n",
      "197            8.122641          20.294774  1\n",
      "198           28.770680          14.784148  0\n",
      "\n",
      "[199 rows x 3 columns]\n"
     ]
    }
   ],
   "source": [
    "import numpy as np\n",
    "import pandas as pd\n",
    "print(\"Dataset1:\")\n",
    "set1 = pd.read_csv('dataset1.csv')\n",
    "print(set1,\"\\n\")\n",
    "\n",
    "print(\"Dataset2:\")\n",
    "set2 = pd.read_csv('dataset2.csv')\n",
    "print(set2,\"\\n\")\n",
    "\n",
    "print(\"Dataset3:\")\n",
    "set3 = pd.read_csv('dataset3.csv')\n",
    "print(set3)"
   ]
  },
  {
   "cell_type": "markdown",
   "metadata": {},
   "source": [
    "# 2.) Use logistic regression to fit() and score() a binary classifier for dataset 1. How accurate are the model’s predictions?"
   ]
  },
  {
   "cell_type": "code",
   "execution_count": 28,
   "metadata": {},
   "outputs": [],
   "source": [
    "from sklearn.linear_model import LogisticRegression\n",
    "import matplotlib.pyplot as plt\n",
    "\n",
    "model = LogisticRegression(solver='liblinear', random_state=0)\n",
    "# model.fit(X,y)\n",
    "\n"
   ]
  },
  {
   "cell_type": "markdown",
   "metadata": {},
   "source": [
    "# 3.) Repeat experiment (2) for dataset 2. How well does it score?"
   ]
  },
  {
   "cell_type": "markdown",
   "metadata": {},
   "source": [
    "# 4.) Create separate scatterplots for datasets 1 and 2, plotting points from class 0 with a different color and marker from points in class 1. What accounts for the discrepancies between experiments (2) and (3)?\n"
   ]
  },
  {
   "cell_type": "markdown",
   "metadata": {},
   "source": [
    "# 5.) Fit and score Gaussian Naive Bayes classifiers for datasets 1 and 2. How well do these classifiers score compared to logistic regression?"
   ]
  },
  {
   "cell_type": "markdown",
   "metadata": {},
   "source": [
    "# 6.)Repeat experiment (5) with K-Nearest Neighbor classifiers."
   ]
  },
  {
   "cell_type": "markdown",
   "metadata": {},
   "source": [
    "# 7) Use the code from KV Subbaiah Setty’s tutorial How To Plot A Decision Boundary For Machine Learning Algorithms in Python as a guide, plot the decision boundaries for each classifier and dataset. What differences do you observe?\n"
   ]
  },
  {
   "cell_type": "markdown",
   "metadata": {},
   "source": [
    "# 8) Now repeat experiments (2), (5), (6), and (7) with dataset 3.  "
   ]
  }
 ],
 "metadata": {
  "kernelspec": {
   "display_name": "Python 3",
   "language": "python",
   "name": "python3"
  },
  "language_info": {
   "codemirror_mode": {
    "name": "ipython",
    "version": 3
   },
   "file_extension": ".py",
   "mimetype": "text/x-python",
   "name": "python",
   "nbconvert_exporter": "python",
   "pygments_lexer": "ipython3",
   "version": "3.8.5"
  },
  "metadata": {
   "interpreter": {
    "hash": "63fd5069d213b44bf678585dea6b12cceca9941eaf7f819626cde1f2670de90d"
   }
  }
 },
 "nbformat": 4,
 "nbformat_minor": 4
}
